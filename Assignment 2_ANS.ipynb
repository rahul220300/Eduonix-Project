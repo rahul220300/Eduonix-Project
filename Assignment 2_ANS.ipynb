{
 "cells": [
  {
   "cell_type": "code",
   "execution_count": 1,
   "id": "413e1921",
   "metadata": {},
   "outputs": [
    {
     "name": "stdout",
     "output_type": "stream",
     "text": [
      "Enter file name: mbox.txt\n",
      "Counts:\n",
      "iupui.edu 8\n",
      "umich.edu 7\n",
      "uct.ac.za 6\n",
      "media.berkeley.edu 4\n",
      "caret.cam.ac.uk 1\n",
      "gmail.com 1\n"
     ]
    }
   ],
   "source": [
    "import sqlite3\n",
    "\n",
    "# Connect to SQLite database (or create if not exists)\n",
    "conn = sqlite3.connect('emaildb.sqlite')\n",
    "cur = conn.cursor()\n",
    "\n",
    "# Drop table if exists (to ensure a fresh start)\n",
    "cur.execute('DROP TABLE IF EXISTS Counts')\n",
    "\n",
    "# Create table with specified schema\n",
    "cur.execute('CREATE TABLE Counts (org TEXT, count INTEGER)')\n",
    "\n",
    "# Prompt user for file name, defaulting to mbox.txt\n",
    "filename = input('Enter file name: ')\n",
    "if len(filename) < 1:\n",
    "    filename = 'mbox.txt'\n",
    "\n",
    "# Open the file\n",
    "try:\n",
    "    fh = open(filename)\n",
    "except:\n",
    "    print('File cannot be opened:', filename)\n",
    "    quit()\n",
    "\n",
    "# Loop through lines of the file\n",
    "for line in fh:\n",
    "    # Look for lines starting with 'From: '\n",
    "    if not line.startswith('From: '): \n",
    "        continue\n",
    "    # Split the line into words\n",
    "    pieces = line.split()\n",
    "    # Extract email address\n",
    "    email = pieces[1]\n",
    "    # Extract domain from email address\n",
    "    domain = email.split('@')[1]\n",
    "    # Check if domain exists in database, if not, insert, else update count\n",
    "    cur.execute('SELECT count FROM Counts WHERE org = ?', (domain,))\n",
    "    row = cur.fetchone()\n",
    "    if row is None:\n",
    "        cur.execute('INSERT INTO Counts (org, count) VALUES (?, 1)', (domain,))\n",
    "    else:\n",
    "        count = row[0] + 1\n",
    "        cur.execute('UPDATE Counts SET count = ? WHERE org = ?', (count, domain))\n",
    "\n",
    "# Commit changes to the database\n",
    "conn.commit()\n",
    "\n",
    "# Retrieve data and print counts\n",
    "sqlstr = 'SELECT org, count FROM Counts ORDER BY count DESC'\n",
    "\n",
    "print(\"Counts:\")\n",
    "for row in cur.execute(sqlstr):\n",
    "    print(row[0], row[1])\n",
    "\n",
    "# Close cursor and connection\n",
    "cur.close()\n"
   ]
  },
  {
   "cell_type": "code",
   "execution_count": null,
   "id": "4344aeec",
   "metadata": {},
   "outputs": [],
   "source": []
  }
 ],
 "metadata": {
  "kernelspec": {
   "display_name": "Python 3 (ipykernel)",
   "language": "python",
   "name": "python3"
  },
  "language_info": {
   "codemirror_mode": {
    "name": "ipython",
    "version": 3
   },
   "file_extension": ".py",
   "mimetype": "text/x-python",
   "name": "python",
   "nbconvert_exporter": "python",
   "pygments_lexer": "ipython3",
   "version": "3.11.5"
  }
 },
 "nbformat": 4,
 "nbformat_minor": 5
}
