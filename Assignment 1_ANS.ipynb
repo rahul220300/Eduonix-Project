{
 "cells": [
  {
   "cell_type": "code",
   "execution_count": 1,
   "id": "88806b75",
   "metadata": {},
   "outputs": [
    {
     "name": "stdout",
     "output_type": "stream",
     "text": [
      "The first row in the resulting record set: 46796E3331\n"
     ]
    }
   ],
   "source": [
    "import sqlite3\n",
    "\n",
    "# Connect to SQLite database (creating a new one if it doesn't exist)\n",
    "db = sqlite3.connect('my_database.db')\n",
    "\n",
    "# Create a cursor object\n",
    "cursor = db.cursor()\n",
    "\n",
    "# Create the \"Ages\" table if it doesn't exist\n",
    "cursor.execute('''\n",
    "    CREATE TABLE IF NOT EXISTS Ages (\n",
    "        name VARCHAR(128),\n",
    "        age INTEGER\n",
    "    )''')\n",
    "\n",
    "# Clear any existing data in the \"Ages\" table\n",
    "cursor.execute('''DELETE FROM Ages''')\n",
    "\n",
    "# Insert the specified rows into the \"Ages\" table\n",
    "cursor.execute('''INSERT INTO Ages (name, age) VALUES ('Mara', 28)''')\n",
    "cursor.execute('''INSERT INTO Ages (name, age) VALUES ('Otto', 33)''')\n",
    "cursor.execute('''INSERT INTO Ages (name, age) VALUES ('Fyn', 31)''')\n",
    "cursor.execute('''INSERT INTO Ages (name, age) VALUES ('Neshawn', 17)''')\n",
    "\n",
    "# Select hex encoded values and order them\n",
    "cursor.execute('''SELECT hex(name || age) AS X FROM Ages ORDER BY X''')\n",
    "\n",
    "# Retrieve the first row\n",
    "first_row = cursor.fetchone()\n",
    "\n",
    "# Print the first row's hex encoded value\n",
    "print(\"The first row in the resulting record set:\", first_row[0])\n",
    "\n",
    "# Commit changes to the database\n",
    "db.commit()\n",
    "\n",
    "# Close the database connection\n",
    "db.close()\n"
   ]
  },
  {
   "cell_type": "code",
   "execution_count": null,
   "id": "c6f7db70",
   "metadata": {},
   "outputs": [],
   "source": []
  }
 ],
 "metadata": {
  "kernelspec": {
   "display_name": "Python 3 (ipykernel)",
   "language": "python",
   "name": "python3"
  },
  "language_info": {
   "codemirror_mode": {
    "name": "ipython",
    "version": 3
   },
   "file_extension": ".py",
   "mimetype": "text/x-python",
   "name": "python",
   "nbconvert_exporter": "python",
   "pygments_lexer": "ipython3",
   "version": "3.11.5"
  }
 },
 "nbformat": 4,
 "nbformat_minor": 5
}
