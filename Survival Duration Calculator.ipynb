{
 "cells": [
  {
   "cell_type": "code",
   "execution_count": null,
   "id": "5f797beb",
   "metadata": {},
   "outputs": [],
   "source": [
    "# we will define function for age & unit input.\n",
    "\n",
    "def calculate_duration(age, unit):\n",
    "    if unit.lower() == 'months' or unit.lower() == 'm':\n",
    "        duration = age * 12\n",
    "        print(\"You lived for\", duration, \"Months\")\n",
    "    elif unit.lower() == 'weeks' or unit.lower() == 'w':\n",
    "        duration = age * 52\n",
    "        print(\"You lived for\", duration, \"Weeks\")\n",
    "    elif unit.lower() == 'days' or unit.lower() == 'd':\n",
    "        duration = age * 365\n",
    "        print(\"You lived for\", duration, \"Days\")\n",
    "    elif unit.lower() == 'hours' or unit.lower() == 'h':\n",
    "        duration = age * 365 * 24\n",
    "        print(\"You lived for\", duration, \"Hours\")\n",
    "    elif unit.lower() == 'minutes' or unit.lower() == 'min':\n",
    "        duration = age * 365 * 24 * 60\n",
    "        print(\"You lived for\", duration, \"Minutes\")\n",
    "    elif unit.lower() == 'seconds' or unit.lower() == 'sec':\n",
    "        duration = age * 365 * 24 * 60 * 60\n",
    "        print(\"You lived for\", duration, \"Seconds\")\n",
    "    else:\n",
    "        print(\"Invalid time unit selected\")\n",
    "        \n",
    "#calculate the age and time ratio as the unit.\n",
    "\n",
    "def main():\n",
    "    age = int(input(\"What's your age? \"))\n",
    "    unit = input(\"Please choose time unit: Months, Weeks, Days, Hours, Minutes, Seconds.\\nNote: You can write the first letter or the full name of the time unit. \").strip()\n",
    "    calculate_duration(age, unit)\n",
    "    \n",
    "# call the function here.\n",
    "\n",
    "if __name__ == \"__main__\":\n",
    "    main()\n"
   ]
  },
  {
   "cell_type": "code",
   "execution_count": null,
   "id": "38a56b61",
   "metadata": {},
   "outputs": [],
   "source": []
  },
  {
   "cell_type": "code",
   "execution_count": null,
   "id": "a9f3416d",
   "metadata": {},
   "outputs": [],
   "source": []
  }
 ],
 "metadata": {
  "kernelspec": {
   "display_name": "Python 3 (ipykernel)",
   "language": "python",
   "name": "python3"
  },
  "language_info": {
   "codemirror_mode": {
    "name": "ipython",
    "version": 3
   },
   "file_extension": ".py",
   "mimetype": "text/x-python",
   "name": "python",
   "nbconvert_exporter": "python",
   "pygments_lexer": "ipython3",
   "version": "3.11.5"
  }
 },
 "nbformat": 4,
 "nbformat_minor": 5
}
