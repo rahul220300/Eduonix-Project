{
 "cells": [
  {
   "cell_type": "code",
   "execution_count": null,
   "id": "a99cb3bc",
   "metadata": {},
   "outputs": [],
   "source": []
  },
  {
   "cell_type": "code",
   "execution_count": 7,
   "id": "0221d97d",
   "metadata": {},
   "outputs": [
    {
     "name": "stdout",
     "output_type": "stream",
     "text": [
      "\n",
      "                ***** Welcome To ATM Machine Simulator *****\n",
      "             \n",
      "Options you can Exercise:\n",
      "1) Balance\n",
      "2) Withdraw\n",
      "3) Deposit\n",
      "4) Exit\n",
      "Select Your Transaction from the Below options: tutfhj\n",
      "Invalid Option\n"
     ]
    }
   ],
   "source": [
    "class ATM:\n",
    "    def __init__(self):\n",
    "        self.balance = 10000\n",
    "\n",
    "    def display_menu(self):\n",
    "        print('''\n",
    "                ***** Welcome To ATM Machine Simulator *****\n",
    "             ''')\n",
    "        print('Options you can Exercise:')\n",
    "        print('1) Balance')\n",
    "        print('2) Withdraw')\n",
    "        print('3) Deposit')\n",
    "        print('4) Exit')\n",
    "\n",
    "    def check_balance(self):\n",
    "        print(f'Available A/C Balance Is {self.balance}')\n",
    "\n",
    "    def withdraw(self):\n",
    "        withdraw_amount = int(input('Enter Amount: '))\n",
    "        if withdraw_amount <= self.balance:\n",
    "            self.balance -= withdraw_amount\n",
    "            print(f'Your available balance is {self.balance}')\n",
    "        else:\n",
    "            print('Insufficient Balance')\n",
    "\n",
    "    def deposit(self):\n",
    "        deposit_amount = int(input('Enter Amount: '))\n",
    "        self.balance += deposit_amount\n",
    "        print(f'New Balance is {self.balance}')\n",
    "\n",
    "    def atm_operation(self):\n",
    "        self.display_menu()\n",
    "        option = int(input('Select Your Transaction from the Below options: '))\n",
    "        if option == 1:\n",
    "            self.check_balance()\n",
    "        elif option == 2:\n",
    "            self.withdraw()\n",
    "        elif option == 3:\n",
    "            self.deposit()\n",
    "        elif option == 4:\n",
    "            exit()\n",
    "        else:\n",
    "            print('Invalid Option')\n",
    "\n",
    "if __name__ == \"__main__\":\n",
    "    atm = ATM()\n",
    "    atm.atm_operation()\n"
   ]
  },
  {
   "cell_type": "code",
   "execution_count": null,
   "id": "38ba1201",
   "metadata": {},
   "outputs": [],
   "source": []
  },
  {
   "cell_type": "code",
   "execution_count": null,
   "id": "1a33af81",
   "metadata": {},
   "outputs": [],
   "source": []
  },
  {
   "cell_type": "code",
   "execution_count": null,
   "id": "16c6447f",
   "metadata": {},
   "outputs": [],
   "source": []
  }
 ],
 "metadata": {
  "kernelspec": {
   "display_name": "Python 3 (ipykernel)",
   "language": "python",
   "name": "python3"
  },
  "language_info": {
   "codemirror_mode": {
    "name": "ipython",
    "version": 3
   },
   "file_extension": ".py",
   "mimetype": "text/x-python",
   "name": "python",
   "nbconvert_exporter": "python",
   "pygments_lexer": "ipython3",
   "version": "3.11.5"
  }
 },
 "nbformat": 4,
 "nbformat_minor": 5
}
